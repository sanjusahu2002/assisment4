{
 "cells": [
  {
   "cell_type": "code",
   "execution_count": 41,
   "id": "9f5f8b65-1c09-43de-bb77-6322af15cc0e",
   "metadata": {},
   "outputs": [],
   "source": [
    "''' Q1. Create a python program to sort the given list of tuples based on integer value using a \n",
    "lambda function. \n",
    "[('Sachin Tendulkar', 34357), ('Ricky Ponting', 27483), ('Jack Kallis', 25534), ('Virat Kohli', 24936)]'''\n",
    "\n",
    "list1 =[('Sachin Tendulkar', 34357), ('Ricky Ponting', 27483), ('Jack Kallis', 25534), ('Virat Kohli', 24936)]\n",
    "list1.sort(key =lambda item:item[1])\n",
    "\n"
   ]
  },
  {
   "cell_type": "code",
   "execution_count": 42,
   "id": "69d90037-b50e-4a08-b0cb-bd952f04f2dd",
   "metadata": {},
   "outputs": [
    {
     "data": {
      "text/plain": [
       "[('Virat Kohli', 24936),\n",
       " ('Jack Kallis', 25534),\n",
       " ('Ricky Ponting', 27483),\n",
       " ('Sachin Tendulkar', 34357)]"
      ]
     },
     "execution_count": 42,
     "metadata": {},
     "output_type": "execute_result"
    }
   ],
   "source": [
    "list1"
   ]
  },
  {
   "cell_type": "code",
   "execution_count": 7,
   "id": "9935903a-2c3f-4341-9e3c-c0d04e258ae4",
   "metadata": {},
   "outputs": [],
   "source": [
    "a(list1)"
   ]
  },
  {
   "cell_type": "code",
   "execution_count": 1,
   "id": "3f573c0e-9f2b-42c1-b99a-705c27d16b73",
   "metadata": {},
   "outputs": [],
   "source": [
    "''' Q2. Write a Python Program to find the squares of all the numbers in the given list of integers using \n",
    "lambda and map functions '''\n",
    "list2 = [1,2,3,4,5,6,7,8,9,10]\n",
    "a =list( map(lambda x :x**2 ,list2))"
   ]
  },
  {
   "cell_type": "code",
   "execution_count": 3,
   "id": "a50f31a0-4366-4840-8db2-7d9106e746cc",
   "metadata": {},
   "outputs": [
    {
     "name": "stdout",
     "output_type": "stream",
     "text": [
      "[1, 4, 9, 16, 25, 36, 49, 64, 81, 100]\n"
     ]
    }
   ],
   "source": [
    "print(a)"
   ]
  },
  {
   "cell_type": "code",
   "execution_count": 4,
   "id": "e3a5d2f8-05ce-4b48-ad73-d9f39887e03d",
   "metadata": {},
   "outputs": [],
   "source": [
    "'''Q3. Write a python program to convert the given list of integers into a tuple of strings. Use map and \n",
    "lambda functions\n",
    "\n",
    "\n",
    "Given String: [1, 2, 3, 4, 5, 6, 7, 8, 9, 10]\n",
    "\n",
    "Expected output: ('1', '2', '3', '4', '5', '6', '7', '8', '9', '10')'''\n",
    "list3 =[ 1,2,3,4,5,6,7,8,9,10]\n",
    "b =tuple(map(lambda x:str(x),list3))"
   ]
  },
  {
   "cell_type": "code",
   "execution_count": 5,
   "id": "db852671-ab63-45a3-8cfd-bb0c2ab2db83",
   "metadata": {},
   "outputs": [
    {
     "name": "stdout",
     "output_type": "stream",
     "text": [
      "('1', '2', '3', '4', '5', '6', '7', '8', '9', '10')\n"
     ]
    }
   ],
   "source": [
    "print(b)"
   ]
  },
  {
   "cell_type": "code",
   "execution_count": 10,
   "id": "0ab7e876-a5ff-43bd-b600-567c5fb9bc8f",
   "metadata": {},
   "outputs": [],
   "source": [
    "'''Q4.  Write a python program using reduce function to compute the product of a list containing numbers \n",
    "from 1 to 25.'''\n",
    "list4 =[]\n",
    "for i in range(1,26):\n",
    "    list4.append(i)"
   ]
  },
  {
   "cell_type": "code",
   "execution_count": 11,
   "id": "d33877f2-66f0-4589-9a54-d12868be0f5c",
   "metadata": {},
   "outputs": [],
   "source": [
    "from functools import reduce"
   ]
  },
  {
   "cell_type": "code",
   "execution_count": 14,
   "id": "3711fc7e-02d7-4f2a-8808-48d1fd32e611",
   "metadata": {},
   "outputs": [
    {
     "data": {
      "text/plain": [
       "15511210043330985984000000"
      ]
     },
     "execution_count": 14,
     "metadata": {},
     "output_type": "execute_result"
    }
   ],
   "source": [
    "reduce(lambda x,y:x*y ,list4)"
   ]
  },
  {
   "cell_type": "code",
   "execution_count": null,
   "id": "f1e52ed1-1cb8-4b8f-9c97-5c497dfb9c19",
   "metadata": {},
   "outputs": [],
   "source": [
    "'''Q5. Write a python program to filter the numbers in a given list that are divisible by 2 and 3 using the \n",
    "filter function.\n",
    "\n",
    "\n",
    "[2, 3, 6, 9, 27, 60, 90, 120, 55, 46]'''\n"
   ]
  },
  {
   "cell_type": "code",
   "execution_count": 18,
   "id": "89136a99-67e5-42f3-9cea-9f62fb876791",
   "metadata": {},
   "outputs": [],
   "source": [
    "list5 =[2, 3, 6, 9, 27, 60, 90, 120, 55, 46]\n",
    "c = list(filter(lambda x:x%2==0 and x%3==0 ,list5))"
   ]
  },
  {
   "cell_type": "code",
   "execution_count": 19,
   "id": "7a3ef53e-a259-45b5-b6e2-313b84c332b5",
   "metadata": {},
   "outputs": [
    {
     "name": "stdout",
     "output_type": "stream",
     "text": [
      "[6, 60, 90, 120]\n"
     ]
    }
   ],
   "source": [
    "print(c)"
   ]
  },
  {
   "cell_type": "code",
   "execution_count": 34,
   "id": "a0d036fe-9a8c-4caf-a1b0-8de45f8a416a",
   "metadata": {},
   "outputs": [],
   "source": [
    "'''Q6. Write a python program to find palindromes in the given list of strings using lambda and filter \n",
    "function.\n",
    "\n",
    "\n",
    "['python', 'php', 'aba', 'radar', 'level']'''\n",
    "list6 = ['python','php','radar','level']\n",
    "s = list(filter(lambda x: x== x[: : -1]  ,list6)) \n"
   ]
  },
  {
   "cell_type": "code",
   "execution_count": 35,
   "id": "869af210-7e86-4805-bb93-baee812fe40f",
   "metadata": {},
   "outputs": [
    {
     "name": "stdout",
     "output_type": "stream",
     "text": [
      "['php', 'radar', 'level']\n"
     ]
    }
   ],
   "source": [
    "print(s)"
   ]
  },
  {
   "cell_type": "code",
   "execution_count": null,
   "id": "527ed195-9c2e-4b3e-bee9-c75461f53f2c",
   "metadata": {},
   "outputs": [],
   "source": []
  },
  {
   "cell_type": "code",
   "execution_count": null,
   "id": "2aa632d7-bc78-46c2-86fd-af1a833502fa",
   "metadata": {},
   "outputs": [],
   "source": []
  }
 ],
 "metadata": {
  "kernelspec": {
   "display_name": "Python 3 (ipykernel)",
   "language": "python",
   "name": "python3"
  },
  "language_info": {
   "codemirror_mode": {
    "name": "ipython",
    "version": 3
   },
   "file_extension": ".py",
   "mimetype": "text/x-python",
   "name": "python",
   "nbconvert_exporter": "python",
   "pygments_lexer": "ipython3",
   "version": "3.10.8"
  }
 },
 "nbformat": 4,
 "nbformat_minor": 5
}
